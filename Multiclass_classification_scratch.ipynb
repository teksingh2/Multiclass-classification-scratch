{
  "nbformat": 4,
  "nbformat_minor": 0,
  "metadata": {
    "colab": {
      "provenance": []
    },
    "kernelspec": {
      "name": "python3",
      "display_name": "Python 3"
    },
    "language_info": {
      "name": "python"
    }
  },
  "cells": [
    {
      "cell_type": "markdown",
      "source": [
        "##Single layer multiclass classification\n"
      ],
      "metadata": {
        "id": "t2-J2eva7Wrt"
      }
    },
    {
      "cell_type": "code",
      "execution_count": null,
      "metadata": {
        "id": "-DDz0kwtXUps"
      },
      "outputs": [],
      "source": [
        "import torch\n",
        "import torchvision\n",
        "from torchvision.datasets import MNIST,EMNIST\n",
        "from torchvision.transforms import ToTensor\n",
        "import matplotlib.pyplot as plt"
      ]
    },
    {
      "cell_type": "markdown",
      "source": [
        "## MNIST DATASET"
      ],
      "metadata": {
        "id": "yExcjF9M7wE4"
      }
    },
    {
      "cell_type": "code",
      "source": [
        "train_data=MNIST(root='dataset/train',train=True,download=True,transform=ToTensor())\n",
        "train_data"
      ],
      "metadata": {
        "id": "zIowufTnXvqf",
        "colab": {
          "base_uri": "https://localhost:8080/"
        },
        "outputId": "d1ad9d11-9fba-431c-ecb9-34a085fcd959"
      },
      "execution_count": null,
      "outputs": [
        {
          "output_type": "stream",
          "name": "stdout",
          "text": [
            "Downloading http://yann.lecun.com/exdb/mnist/train-images-idx3-ubyte.gz\n",
            "Failed to download (trying next):\n",
            "HTTP Error 403: Forbidden\n",
            "\n",
            "Downloading https://ossci-datasets.s3.amazonaws.com/mnist/train-images-idx3-ubyte.gz\n",
            "Downloading https://ossci-datasets.s3.amazonaws.com/mnist/train-images-idx3-ubyte.gz to dataset/train/MNIST/raw/train-images-idx3-ubyte.gz\n"
          ]
        },
        {
          "output_type": "stream",
          "name": "stderr",
          "text": [
            "100%|██████████| 9.91M/9.91M [00:00<00:00, 54.0MB/s]\n"
          ]
        },
        {
          "output_type": "stream",
          "name": "stdout",
          "text": [
            "Extracting dataset/train/MNIST/raw/train-images-idx3-ubyte.gz to dataset/train/MNIST/raw\n",
            "\n",
            "Downloading http://yann.lecun.com/exdb/mnist/train-labels-idx1-ubyte.gz\n",
            "Failed to download (trying next):\n",
            "HTTP Error 403: Forbidden\n",
            "\n",
            "Downloading https://ossci-datasets.s3.amazonaws.com/mnist/train-labels-idx1-ubyte.gz\n",
            "Downloading https://ossci-datasets.s3.amazonaws.com/mnist/train-labels-idx1-ubyte.gz to dataset/train/MNIST/raw/train-labels-idx1-ubyte.gz\n"
          ]
        },
        {
          "output_type": "stream",
          "name": "stderr",
          "text": [
            "100%|██████████| 28.9k/28.9k [00:00<00:00, 2.29MB/s]"
          ]
        },
        {
          "output_type": "stream",
          "name": "stdout",
          "text": [
            "Extracting dataset/train/MNIST/raw/train-labels-idx1-ubyte.gz to dataset/train/MNIST/raw\n",
            "\n",
            "Downloading http://yann.lecun.com/exdb/mnist/t10k-images-idx3-ubyte.gz\n"
          ]
        },
        {
          "output_type": "stream",
          "name": "stderr",
          "text": [
            "\n"
          ]
        },
        {
          "output_type": "stream",
          "name": "stdout",
          "text": [
            "Failed to download (trying next):\n",
            "HTTP Error 403: Forbidden\n",
            "\n",
            "Downloading https://ossci-datasets.s3.amazonaws.com/mnist/t10k-images-idx3-ubyte.gz\n",
            "Downloading https://ossci-datasets.s3.amazonaws.com/mnist/t10k-images-idx3-ubyte.gz to dataset/train/MNIST/raw/t10k-images-idx3-ubyte.gz\n"
          ]
        },
        {
          "output_type": "stream",
          "name": "stderr",
          "text": [
            "100%|██████████| 1.65M/1.65M [00:00<00:00, 14.8MB/s]\n"
          ]
        },
        {
          "output_type": "stream",
          "name": "stdout",
          "text": [
            "Extracting dataset/train/MNIST/raw/t10k-images-idx3-ubyte.gz to dataset/train/MNIST/raw\n",
            "\n",
            "Downloading http://yann.lecun.com/exdb/mnist/t10k-labels-idx1-ubyte.gz\n",
            "Failed to download (trying next):\n",
            "HTTP Error 403: Forbidden\n",
            "\n",
            "Downloading https://ossci-datasets.s3.amazonaws.com/mnist/t10k-labels-idx1-ubyte.gz\n",
            "Downloading https://ossci-datasets.s3.amazonaws.com/mnist/t10k-labels-idx1-ubyte.gz to dataset/train/MNIST/raw/t10k-labels-idx1-ubyte.gz\n"
          ]
        },
        {
          "output_type": "stream",
          "name": "stderr",
          "text": [
            "100%|██████████| 4.54k/4.54k [00:00<00:00, 2.58MB/s]"
          ]
        },
        {
          "output_type": "stream",
          "name": "stdout",
          "text": [
            "Extracting dataset/train/MNIST/raw/t10k-labels-idx1-ubyte.gz to dataset/train/MNIST/raw\n",
            "\n"
          ]
        },
        {
          "output_type": "stream",
          "name": "stderr",
          "text": [
            "\n"
          ]
        },
        {
          "output_type": "execute_result",
          "data": {
            "text/plain": [
              "Dataset MNIST\n",
              "    Number of datapoints: 60000\n",
              "    Root location: dataset/train\n",
              "    Split: Train\n",
              "    StandardTransform\n",
              "Transform: ToTensor()"
            ]
          },
          "metadata": {},
          "execution_count": 2
        }
      ]
    },
    {
      "cell_type": "code",
      "source": [
        "test_data=MNIST(root='dataset/test',train=False,download=True,transform=ToTensor())\n",
        "test_data"
      ],
      "metadata": {
        "colab": {
          "base_uri": "https://localhost:8080/"
        },
        "id": "Wo541GEz8MI6",
        "outputId": "87ca2389-0825-4ac3-ed2c-b6ce2d138860"
      },
      "execution_count": null,
      "outputs": [
        {
          "output_type": "stream",
          "name": "stdout",
          "text": [
            "Downloading http://yann.lecun.com/exdb/mnist/train-images-idx3-ubyte.gz\n",
            "Failed to download (trying next):\n",
            "HTTP Error 403: Forbidden\n",
            "\n",
            "Downloading https://ossci-datasets.s3.amazonaws.com/mnist/train-images-idx3-ubyte.gz\n",
            "Downloading https://ossci-datasets.s3.amazonaws.com/mnist/train-images-idx3-ubyte.gz to dataset/test/MNIST/raw/train-images-idx3-ubyte.gz\n"
          ]
        },
        {
          "output_type": "stream",
          "name": "stderr",
          "text": [
            "100%|██████████| 9.91M/9.91M [00:00<00:00, 54.0MB/s]\n"
          ]
        },
        {
          "output_type": "stream",
          "name": "stdout",
          "text": [
            "Extracting dataset/test/MNIST/raw/train-images-idx3-ubyte.gz to dataset/test/MNIST/raw\n",
            "\n",
            "Downloading http://yann.lecun.com/exdb/mnist/train-labels-idx1-ubyte.gz\n",
            "Failed to download (trying next):\n",
            "HTTP Error 403: Forbidden\n",
            "\n",
            "Downloading https://ossci-datasets.s3.amazonaws.com/mnist/train-labels-idx1-ubyte.gz\n",
            "Downloading https://ossci-datasets.s3.amazonaws.com/mnist/train-labels-idx1-ubyte.gz to dataset/test/MNIST/raw/train-labels-idx1-ubyte.gz\n"
          ]
        },
        {
          "output_type": "stream",
          "name": "stderr",
          "text": [
            "100%|██████████| 28.9k/28.9k [00:00<00:00, 2.56MB/s]"
          ]
        },
        {
          "output_type": "stream",
          "name": "stdout",
          "text": [
            "Extracting dataset/test/MNIST/raw/train-labels-idx1-ubyte.gz to dataset/test/MNIST/raw\n",
            "\n",
            "Downloading http://yann.lecun.com/exdb/mnist/t10k-images-idx3-ubyte.gz\n"
          ]
        },
        {
          "output_type": "stream",
          "name": "stderr",
          "text": [
            "\n"
          ]
        },
        {
          "output_type": "stream",
          "name": "stdout",
          "text": [
            "Failed to download (trying next):\n",
            "HTTP Error 403: Forbidden\n",
            "\n",
            "Downloading https://ossci-datasets.s3.amazonaws.com/mnist/t10k-images-idx3-ubyte.gz\n",
            "Downloading https://ossci-datasets.s3.amazonaws.com/mnist/t10k-images-idx3-ubyte.gz to dataset/test/MNIST/raw/t10k-images-idx3-ubyte.gz\n"
          ]
        },
        {
          "output_type": "stream",
          "name": "stderr",
          "text": [
            "100%|██████████| 1.65M/1.65M [00:00<00:00, 12.8MB/s]\n"
          ]
        },
        {
          "output_type": "stream",
          "name": "stdout",
          "text": [
            "Extracting dataset/test/MNIST/raw/t10k-images-idx3-ubyte.gz to dataset/test/MNIST/raw\n",
            "\n",
            "Downloading http://yann.lecun.com/exdb/mnist/t10k-labels-idx1-ubyte.gz\n",
            "Failed to download (trying next):\n",
            "HTTP Error 403: Forbidden\n",
            "\n",
            "Downloading https://ossci-datasets.s3.amazonaws.com/mnist/t10k-labels-idx1-ubyte.gz\n",
            "Downloading https://ossci-datasets.s3.amazonaws.com/mnist/t10k-labels-idx1-ubyte.gz to dataset/test/MNIST/raw/t10k-labels-idx1-ubyte.gz\n"
          ]
        },
        {
          "output_type": "stream",
          "name": "stderr",
          "text": [
            "100%|██████████| 4.54k/4.54k [00:00<00:00, 3.34MB/s]"
          ]
        },
        {
          "output_type": "stream",
          "name": "stdout",
          "text": [
            "Extracting dataset/test/MNIST/raw/t10k-labels-idx1-ubyte.gz to dataset/test/MNIST/raw\n",
            "\n"
          ]
        },
        {
          "output_type": "stream",
          "name": "stderr",
          "text": [
            "\n"
          ]
        },
        {
          "output_type": "execute_result",
          "data": {
            "text/plain": [
              "Dataset MNIST\n",
              "    Number of datapoints: 10000\n",
              "    Root location: dataset/test\n",
              "    Split: Test\n",
              "    StandardTransform\n",
              "Transform: ToTensor()"
            ]
          },
          "metadata": {},
          "execution_count": 3
        }
      ]
    },
    {
      "cell_type": "code",
      "source": [
        "#creating subplots\n",
        "fig,ax=plt.subplots(3,3,figsize=(8,8))\n",
        "for i in range(3):\n",
        "  for j in range(3):\n",
        "    img,label=train_data[i*3+j]\n",
        "    ax[i,j].imshow(img.squeeze(),cmap='gray')\n",
        "    ax[i,j].set_title(f'label:{label}')\n",
        "    ax[i,j].axis('off')\n",
        "plt.tight_layout()\n",
        "plt.show()"
      ],
      "metadata": {
        "colab": {
          "base_uri": "https://localhost:8080/",
          "height": 807
        },
        "id": "-aE3WzXr8zDj",
        "outputId": "b197d091-176c-41af-88fd-b7e89a01c33c"
      },
      "execution_count": null,
      "outputs": [
        {
          "output_type": "display_data",
          "data": {
            "text/plain": [
              "<Figure size 800x800 with 9 Axes>"
            ],
            "image/png": "[encoded data removed]"
          },
          "metadata": {}
        }
      ]
    },
    {
      "cell_type": "code",
      "source": [
        "#flattening training set\n",
        "x_train=torch.flatten(train_data.data,1,2).to(torch.float32)\n",
        "y_train=train_data.targets.reshape(x_train.shape[0],1).to(torch.int8)\n",
        "x_train.shape,y_train.shape"
      ],
      "metadata": {
        "colab": {
          "base_uri": "https://localhost:8080/"
        },
        "id": "j_XWkWxd992o",
        "outputId": "703e3255-e653-45b4-cf20-abd6b79985e6"
      },
      "execution_count": null,
      "outputs": [
        {
          "output_type": "execute_result",
          "data": {
            "text/plain": [
              "(torch.Size([60000, 784]), torch.Size([60000, 1]))"
            ]
          },
          "metadata": {},
          "execution_count": 5
        }
      ]
    },
    {
      "cell_type": "code",
      "source": [
        "#flattening test set\n",
        "x_test=torch.flatten(test_data.data,1,2).to(torch.float32)\n",
        "y_test=test_data.targets.reshape(x_test.shape[0],1).to(torch.int8)\n",
        "x_test.shape,y_test.shape"
      ],
      "metadata": {
        "colab": {
          "base_uri": "https://localhost:8080/"
        },
        "id": "Mo5qDewO_Qwy",
        "outputId": "5eaa820b-c2a9-49d2-dc19-ac1fad9ecdda"
      },
      "execution_count": null,
      "outputs": [
        {
          "output_type": "execute_result",
          "data": {
            "text/plain": [
              "(torch.Size([10000, 784]), torch.Size([10000, 1]))"
            ]
          },
          "metadata": {},
          "execution_count": 6
        }
      ]
    },
    {
      "cell_type": "markdown",
      "source": [
        "##One Hot Encoding for labels"
      ],
      "metadata": {
        "id": "Dw_8kAFfAOe_"
      }
    },
    {
      "cell_type": "code",
      "source": [
        "y_encod_train=torch.zeros((x_train.shape[0],len(train_data.classes))).to(torch.int8)\n",
        "for i in range(x_train.shape[0]):\n",
        "  y_encod_train[i][y_train[i].item()]=1\n",
        "\n",
        "y_encod_train.shape"
      ],
      "metadata": {
        "colab": {
          "base_uri": "https://localhost:8080/"
        },
        "id": "AEu4oxskAD96",
        "outputId": "afd6f763-02e9-45f7-e1a3-5dbd93cf1845"
      },
      "execution_count": null,
      "outputs": [
        {
          "output_type": "execute_result",
          "data": {
            "text/plain": [
              "torch.Size([60000, 10])"
            ]
          },
          "metadata": {},
          "execution_count": 7
        }
      ]
    },
    {
      "cell_type": "code",
      "source": [
        "y_encod_test=torch.zeros((x_test.shape[0],len(test_data.classes))).to(torch.int8)\n",
        "for i in range(x_test.shape[0]):\n",
        "  y_encod_test[i][y_test[i].item()]=1\n",
        "\n",
        "y_encod_test"
      ],
      "metadata": {
        "colab": {
          "base_uri": "https://localhost:8080/"
        },
        "id": "kNgJWKIwBKTN",
        "outputId": "7a56a5e9-7d35-4cbe-c96b-05735a4d4c90"
      },
      "execution_count": null,
      "outputs": [
        {
          "output_type": "execute_result",
          "data": {
            "text/plain": [
              "tensor([[0, 0, 0,  ..., 1, 0, 0],\n",
              "        [0, 0, 1,  ..., 0, 0, 0],\n",
              "        [0, 1, 0,  ..., 0, 0, 0],\n",
              "        ...,\n",
              "        [0, 0, 0,  ..., 0, 0, 0],\n",
              "        [0, 0, 0,  ..., 0, 0, 0],\n",
              "        [0, 0, 0,  ..., 0, 0, 0]], dtype=torch.int8)"
            ]
          },
          "metadata": {},
          "execution_count": 8
        }
      ]
    },
    {
      "cell_type": "markdown",
      "source": [
        "###Min Max scaling of training and testing data"
      ],
      "metadata": {
        "id": "kW1jwAwvdN0u"
      }
    },
    {
      "cell_type": "code",
      "source": [
        "#scaling training data\n",
        "for i in range(x_train.shape[0]):\n",
        "  x_train[i]=(x_train[i]-x_train[i].min())/(x_train[i].max()-x_train[i].min())\n",
        "#scaling test data\n",
        "for i in range(x_test.shape[0]):\n",
        "  x_test[i]=(x_test[i]-x_test[i].min())/(x_test[i].max()-x_test[i].min())"
      ],
      "metadata": {
        "id": "6JiNXjP-CF-2"
      },
      "execution_count": null,
      "outputs": []
    },
    {
      "cell_type": "markdown",
      "source": [
        "## Weights and Bias initialization"
      ],
      "metadata": {
        "id": "Ysr-WqyTehUe"
      }
    },
    {
      "cell_type": "code",
      "source": [
        "#this one for testing manually computed gradient\n",
        "w_test=torch.randn((x_train.shape[1],y_encod_train.shape[1]),dtype=torch.float32,requires_grad=True)\n",
        "b_test=torch.randn((1,y_encod_train.shape[1]),dtype=torch.float32,requires_grad=True)\n",
        "\n",
        "#kiaming weight initialization\n",
        "w=torch.randn((x_train.shape[1],y_encod_train.shape[1]),dtype=torch.float32,requires_grad=False)*torch.sqrt(torch.tensor(2/x_train.shape[1]))\n",
        "b=torch.randn((1,y_encod_train.shape[1]),dtype=torch.float32,requires_grad=False)*0.01\n",
        "w.shape,b.shape"
      ],
      "metadata": {
        "colab": {
          "base_uri": "https://localhost:8080/"
        },
        "id": "rhxIzg85ebAT",
        "outputId": "6ddf12a5-93f6-41b2-ce87-2d8dc22dc97c"
      },
      "execution_count": null,
      "outputs": [
        {
          "output_type": "execute_result",
          "data": {
            "text/plain": [
              "(torch.Size([784, 10]), torch.Size([1, 10]))"
            ]
          },
          "metadata": {},
          "execution_count": 10
        }
      ]
    },
    {
      "cell_type": "code",
      "source": [
        "z=x_train@w_test+b_test\n",
        "print(z.max())"
      ],
      "metadata": {
        "colab": {
          "base_uri": "https://localhost:8080/"
        },
        "id": "PPLe0Bx4het4",
        "outputId": "92ad9689-16e2-445f-d1f0-2086d9b8ff1b"
      },
      "execution_count": null,
      "outputs": [
        {
          "output_type": "stream",
          "name": "stdout",
          "text": [
            "tensor(41.6259, grad_fn=<MaxBackward1>)\n"
          ]
        }
      ]
    },
    {
      "cell_type": "code",
      "source": [
        "def softmax(Z):\n",
        "    return (torch.exp(Z)/torch.sum(torch.exp(Z),dim=1,keepdim=True))\n",
        "\n",
        "def categorical_cross_entropy(y_encod_train,y_pred):\n",
        "    return torch.sum(-y_encod_train*torch.log(y_pred),dim=1,keepdim=True).mean()"
      ],
      "metadata": {
        "id": "CcNliSzHh7QR"
      },
      "execution_count": null,
      "outputs": []
    },
    {
      "cell_type": "code",
      "source": [
        "y_pred=softmax(z)\n",
        "loss=categorical_cross_entropy(y_encod_train,y_pred)\n",
        "print('loss:',loss)"
      ],
      "metadata": {
        "colab": {
          "base_uri": "https://localhost:8080/"
        },
        "id": "UwGdZiF696_v",
        "outputId": "e77ad203-5476-4dad-894b-618154ea9393"
      },
      "execution_count": null,
      "outputs": [
        {
          "output_type": "stream",
          "name": "stdout",
          "text": [
            "loss: tensor(18.8439, grad_fn=<MeanBackward0>)\n"
          ]
        }
      ]
    },
    {
      "cell_type": "code",
      "source": [
        "#??????\n",
        "dl_da=((-y_encod_train/y_pred)/y_encod_train.shape[0]).unsqueeze(dim=2)\n",
        "dl_da.shape"
      ],
      "metadata": {
        "colab": {
          "base_uri": "https://localhost:8080/"
        },
        "id": "OFMbiUee-VAz",
        "outputId": "056c1a5f-d441-4628-faca-eec8ec59a78e"
      },
      "execution_count": null,
      "outputs": [
        {
          "output_type": "execute_result",
          "data": {
            "text/plain": [
              "torch.Size([60000, 10, 1])"
            ]
          },
          "metadata": {},
          "execution_count": 14
        }
      ]
    },
    {
      "cell_type": "markdown",
      "source": [
        "##Jacobian matrix"
      ],
      "metadata": {
        "id": "r5iAonvDjitp"
      }
    },
    {
      "cell_type": "code",
      "source": [
        "def calc_jacob(x,y,a):\n",
        "  jacob=torch.zeros((x.shape[0],y.shape[1],y.shape[1]),dtype=torch.float32)\n",
        "  for i in range(x.shape[0]):\n",
        "    for j in range(y.shape[1]):\n",
        "      temp=a[i][j].item()\n",
        "      jacob[i][j]=torch.where(a[i]==temp,temp*(1-temp),-temp*a[j])\n",
        "  return jacob\n",
        "\n",
        "def get_dl_dz(jacob,dl_da):\n",
        "  return jacob@dl_da"
      ],
      "metadata": {
        "id": "VO26z3Q4v0F1"
      },
      "execution_count": null,
      "outputs": []
    },
    {
      "cell_type": "code",
      "source": [
        "# #calculating gradients manually\n",
        "# jacob=calc_jacob(x_train,y_encod_train,y_pred)\n",
        "# #????\n",
        "# dl_dz=get_dl_dz(jacob,dl_da)\n",
        "# dz_dw= x_train\n",
        "\n",
        "# dl_dw=dz_dw.T@dl_dz.squeeze(2)\n",
        "# dl_db=torch.sum(dl_dz.squeeze(2),dim=0,keepdim=True)\n",
        "\n",
        "# print(f\"shape- dL_dZ: {dl_dz.shape}\\\n",
        "#        \\nshape- dZ_dW: {dz_dw.shape}\\\n",
        "#       \\nshape- dL_dW: {dl_dw.shape}\\\n",
        "#       \\nshape- dL_db: {dl_db.shape}\")"
      ],
      "metadata": {
        "colab": {
          "base_uri": "https://localhost:8080/"
        },
        "id": "cbQhWx4XmYTr",
        "outputId": "959e5b0e-9a85-41b3-89cb-bc1bcdf03132"
      },
      "execution_count": null,
      "outputs": [
        {
          "output_type": "stream",
          "name": "stdout",
          "text": [
            "shape- dL_dZ: torch.Size([60000, 10, 1])       \n",
            "shape- dZ_dW: torch.Size([60000, 784])      \n",
            "shape- dL_dW: torch.Size([784, 10])      \n",
            "shape- dL_db: torch.Size([1, 10])\n"
          ]
        }
      ]
    },
    {
      "cell_type": "markdown",
      "source": [
        "##Testing if manually compute gradient are right"
      ],
      "metadata": {
        "id": "OyIG86s3oClF"
      }
    },
    {
      "cell_type": "code",
      "source": [
        "loss_list_train=[]\n",
        "loss_list_test=[]"
      ],
      "metadata": {
        "id": "zjMLEipeoAlR"
      },
      "execution_count": null,
      "outputs": []
    },
    {
      "cell_type": "code",
      "source": [
        "y_encod_train.shape[1]"
      ],
      "metadata": {
        "colab": {
          "base_uri": "https://localhost:8080/"
        },
        "id": "CkuAlV4kAN5U",
        "outputId": "b8b1994a-bb86-410d-98e0-5b2aae519af3"
      },
      "execution_count": null,
      "outputs": [
        {
          "output_type": "execute_result",
          "data": {
            "text/plain": [
              "10"
            ]
          },
          "metadata": {},
          "execution_count": 18
        }
      ]
    },
    {
      "cell_type": "markdown",
      "source": [
        "##Training loop"
      ],
      "metadata": {
        "id": "2qK0sd3Gom2B"
      }
    },
    {
      "cell_type": "code",
      "source": [
        "for i in range(500):\n",
        "  z=x_train@w+b\n",
        "  y_hat=softmax(z)\n",
        "  loss=categorical_cross_entropy(y_encod_train,y_hat)\n",
        "\n",
        "  loss_list_train.append(loss.item())\n",
        "  dl_dz=(y_hat-y_encod_train)/x_train.shape[0]\n",
        "  dz_dw=x_train\n",
        "  dl_dw=dz_dw.T@dl_dz\n",
        "  dl_db=torch.sum(dl_dz,dim=0,keepdim=True)\n",
        "  w=w-0.99*dl_dw\n",
        "  b=b-0.99*dl_db\n",
        "\n",
        "  z_test=x_test@w+b\n",
        "  y_hat_test=softmax(z_test)\n",
        "  loss_test=torch.sum((-y_encod_test*torch.log(y_hat_test)),dim=1,keepdim=True)\n",
        "  loss_list_test.append(loss_test.mean().item())\n"
      ],
      "metadata": {
        "id": "ULG3NWyjnI7u"
      },
      "execution_count": null,
      "outputs": []
    },
    {
      "cell_type": "code",
      "source": [
        "plt.figure(figsize=(10,10))\n",
        "plt.plot(loss_list_train,label='train')\n",
        "plt.plot(loss_list_test,label='test')\n",
        "plt.legend()\n",
        "plt.tight_layout()\n",
        "plt.show()"
      ],
      "metadata": {
        "colab": {
          "base_uri": "https://localhost:8080/",
          "height": 1000
        },
        "id": "LUI4fcqkFm5O",
        "outputId": "699cd48c-9ba6-4af3-8296-50869572e720"
      },
      "execution_count": null,
      "outputs": [
        {
          "output_type": "display_data",
          "data": {
            "text/plain": [
              "<Figure size 1000x1000 with 1 Axes>"
            ],
            "image/png": "[encoded data removed]"
          },
          "metadata": {}
        }
      ]
    },
    {
      "cell_type": "code",
      "source": [
        "# train accuracy\n",
        "y_pred=torch.argmax(y_hat,dim=1,keepdim=True)\n",
        "train_acc=torch.sum(y_train==y_pred)/y_train.shape[0]\n",
        "\n",
        "\n",
        "# test accuracy\n",
        "z_test=x_test@w+b\n",
        "y_hat_test=softmax(z_test)\n",
        "y_pred_test=torch.argmax(y_hat_test,dim=1,keepdim=True)\n",
        "test_acc=torch.sum(y_test==y_pred_test)/y_test.shape[0]\n",
        "\n",
        "print(f\"Train Accuracy: {train_acc}\\\n",
        "      \\nTest Accuracy: {test_acc}\")"
      ],
      "metadata": {
        "id": "wOHMgKVJGACO",
        "colab": {
          "base_uri": "https://localhost:8080/"
        },
        "outputId": "8c9b348f-ffac-44e5-f0a9-452f9c439a38"
      },
      "execution_count": null,
      "outputs": [
        {
          "output_type": "stream",
          "name": "stdout",
          "text": [
            "Train Accuracy: 0.9209499955177307      \n",
            "Test Accuracy: 0.9218000173568726\n"
          ]
        }
      ]
    },
    {
      "cell_type": "markdown",
      "source": [
        "## Images we got wrong prediction on"
      ],
      "metadata": {
        "id": "8lXj7HV8Hc2v"
      }
    },
    {
      "cell_type": "code",
      "source": [
        "# Create subplots\n",
        "fig, axs = plt.subplots(3, 3, figsize=(12, 12))\n",
        "\n",
        "# Plot images\n",
        "c=-1\n",
        "j=0\n",
        "i=-1\n",
        "\n",
        "end_loop=False\n",
        "while i!=3:\n",
        "    if end_loop:\n",
        "        break\n",
        "    i+=1\n",
        "    j=0\n",
        "    while j!=3:\n",
        "        c+=1\n",
        "        img, label = test_data[c]  # Accessing each image and label\n",
        "        if label!=y_pred_test[c].item():\n",
        "        # if label==8:\n",
        "            axs[i, j].imshow(img.squeeze(),cmap='gray')\n",
        "            axs[i, j].set_title(f'True Label: {label} | Pred Label: {y_pred_test[c].item()} | idx: {c}')\n",
        "            axs[i, j].axis('off')  # Hide axis\n",
        "            j+=1\n",
        "        if((c==200) or (i==2 and j>2)):\n",
        "            end_loop=True\n",
        "            break\n",
        "\n",
        "plt.tight_layout()\n",
        "plt.show()\n"
      ],
      "metadata": {
        "colab": {
          "base_uri": "https://localhost:8080/",
          "height": 1000
        },
        "id": "hHUkXkLoFEzc",
        "outputId": "a4252f20-e2e9-4c9d-c7d3-25ec9c811a5f"
      },
      "execution_count": null,
      "outputs": [
        {
          "output_type": "display_data",
          "data": {
            "text/plain": [
              "<Figure size 1200x1200 with 9 Axes>"
            ],
            "image/png": "[encoded data removed]"
          },
          "metadata": {}
        }
      ]
    },
    {
      "cell_type": "code",
      "source": [],
      "metadata": {
        "id": "NvL4pELgKdMG"
      },
      "execution_count": null,
      "outputs": []
    }
  ]
}